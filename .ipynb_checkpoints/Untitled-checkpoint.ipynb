{
 "cells": [
  {
   "cell_type": "markdown",
   "id": "85176cd9-9e8c-4883-9e01-a5cdb3883f20",
   "metadata": {},
   "source": [
    "# 🐦 Computational Bioacoustics: An Interactive Introduction\n",
    "\n",
    "Welcome to this interactive session on **computational bioacoustics**!  \n",
    "We will learn how to process, visualize, and extract features from animal sound recordings.\n",
    "\n",
    "---\n",
    "\n",
    "## 📚 Objectives:\n",
    "- Understand what computational bioacoustics is\n",
    "- Learn how to load and visualize audio recordings\n",
    "- Generate spectrograms to analyze frequency patterns\n",
    "- Extract basic features (e.g., MFCCs) for species recognition tasks\n",
    "\n",
    "---"
   ]
  },
  {
   "cell_type": "markdown",
   "id": "a60ea386-83df-4ae7-915b-2fa37f091e7c",
   "metadata": {},
   "source": [
    "# 🔧 Setup: Install Required Libraries\n",
    "# Uncomment and run this cell if you don't have the packages installed\n",
    "\n",
    "# !pip install numpy matplotlib librosa ipywidgets\n"
   ]
  },
  {
   "cell_type": "code",
   "execution_count": 1,
   "id": "fdc90175-5eec-4667-b4dd-9d41dd24e083",
   "metadata": {},
   "outputs": [
    {
     "ename": "ModuleNotFoundError",
     "evalue": "No module named 'matplotlib'",
     "output_type": "error",
     "traceback": [
      "\u001b[31m---------------------------------------------------------------------------\u001b[39m",
      "\u001b[31mModuleNotFoundError\u001b[39m                       Traceback (most recent call last)",
      "\u001b[36mCell\u001b[39m\u001b[36m \u001b[39m\u001b[32mIn[1]\u001b[39m\u001b[32m, line 4\u001b[39m\n\u001b[32m      1\u001b[39m \u001b[38;5;66;03m# 📦 Import Libraries\u001b[39;00m\n\u001b[32m      3\u001b[39m \u001b[38;5;28;01mimport\u001b[39;00m\u001b[38;5;250m \u001b[39m\u001b[34;01mnumpy\u001b[39;00m\u001b[38;5;250m \u001b[39m\u001b[38;5;28;01mas\u001b[39;00m\u001b[38;5;250m \u001b[39m\u001b[34;01mnp\u001b[39;00m\n\u001b[32m----> \u001b[39m\u001b[32m4\u001b[39m \u001b[38;5;28;01mimport\u001b[39;00m\u001b[38;5;250m \u001b[39m\u001b[34;01mmatplotlib\u001b[39;00m\u001b[34;01m.\u001b[39;00m\u001b[34;01mpyplot\u001b[39;00m\u001b[38;5;250m \u001b[39m\u001b[38;5;28;01mas\u001b[39;00m\u001b[38;5;250m \u001b[39m\u001b[34;01mplt\u001b[39;00m\n\u001b[32m      5\u001b[39m \u001b[38;5;28;01mimport\u001b[39;00m\u001b[38;5;250m \u001b[39m\u001b[34;01mlibrosa\u001b[39;00m\n\u001b[32m      6\u001b[39m \u001b[38;5;28;01mimport\u001b[39;00m\u001b[38;5;250m \u001b[39m\u001b[34;01mlibrosa\u001b[39;00m\u001b[34;01m.\u001b[39;00m\u001b[34;01mdisplay\u001b[39;00m\n",
      "\u001b[31mModuleNotFoundError\u001b[39m: No module named 'matplotlib'"
     ]
    }
   ],
   "source": [
    "# 📦 Import Libraries\n",
    "\n",
    "import numpy as np\n",
    "import matplotlib.pyplot as plt\n",
    "import librosa\n",
    "import librosa.display\n",
    "import IPython.display as ipd\n"
   ]
  },
  {
   "cell_type": "code",
   "execution_count": null,
   "id": "df040388-1e57-45ae-acdf-cc3531dc79b1",
   "metadata": {},
   "outputs": [],
   "source": [
    "# 🎵 Load an Example Animal Sound\n",
    "\n",
    "# Load an example audio file (replace this with your own .wav file)\n",
    "audio_path = librosa.example('trumpet')  # Example file\n",
    "# Example replacement: audio_path = \"birdsong.wav\"\n",
    "\n",
    "y, sr = librosa.load(audio_path, sr=None)\n",
    "\n",
    "print(f\"Sample rate: {sr} Hz\")\n",
    "print(f\"Audio duration: {len(y)/sr:.2f} seconds\")\n",
    "\n",
    "# ▶️ Play the sound\n",
    "ipd.Audio(y, rate=sr)\n"
   ]
  },
  {
   "cell_type": "code",
   "execution_count": null,
   "id": "d6a23ebe-a9d4-4fdf-ad90-2a52dc32376f",
   "metadata": {},
   "outputs": [],
   "source": [
    "# 📈 Visualize the Waveform\n",
    "\n",
    "plt.figure(figsize=(14, 4))\n",
    "librosa.display.waveshow(y, sr=sr)\n",
    "plt.title('Waveform')\n",
    "plt.xlabel('Time (s)')\n",
    "plt.ylabel('Amplitude')\n",
    "plt.show()\n"
   ]
  },
  {
   "cell_type": "code",
   "execution_count": null,
   "id": "82f9cd49-7354-4718-868e-e3e90cff0267",
   "metadata": {},
   "outputs": [],
   "source": [
    "# 🌈 Generate a Spectrogram\n",
    "\n",
    "# Compute the Short-Time Fourier Transform (STFT)\n",
    "D = librosa.stft(y)\n",
    "S_db = librosa.amplitude_to_db(np.abs(D), ref=np.max)\n",
    "\n",
    "plt.figure(figsize=(14, 6))\n",
    "librosa.display.specshow(S_db, sr=sr, x_axis='time', y_axis='hz')\n",
    "plt.colorbar(format='%+2.0f dB')\n",
    "plt.title('Spectrogram (dB)')\n",
    "plt.show()\n"
   ]
  },
  {
   "cell_type": "code",
   "execution_count": null,
   "id": "91f16b85-eb82-44c7-a94e-c430080e7ba3",
   "metadata": {},
   "outputs": [],
   "source": [
    "# 🔍 Extract MFCCs (Mel-Frequency Cepstral Coefficients)\n",
    "\n",
    "mfccs = librosa.feature.mfcc(y=y, sr=sr, n_mfcc=13)\n",
    "\n",
    "plt.figure(figsize=(14, 6))\n",
    "librosa.display.specshow(mfccs, x_axis='time')\n",
    "plt.colorbar()\n",
    "plt.title('MFCCs')\n",
    "plt.ylabel('MFCC Coefficients')\n",
    "plt.show()\n"
   ]
  },
  {
   "cell_type": "markdown",
   "id": "0ae59dc3-58af-4005-bf4a-786ec22118ec",
   "metadata": {},
   "source": [
    "---\n",
    "\n",
    "## ✅ Next Steps (Optional Exercises)\n",
    "- Try with your own field recordings (replace `audio_path`)\n",
    "- Extract features from multiple species\n",
    "- Use clustering or machine learning to classify species\n"
   ]
  },
  {
   "cell_type": "code",
   "execution_count": null,
   "id": "78817fab-6c4d-4be7-9011-e12df64a95d3",
   "metadata": {},
   "outputs": [],
   "source": []
  }
 ],
 "metadata": {
  "kernelspec": {
   "display_name": "Python 3 (ipykernel)",
   "language": "python",
   "name": "python3"
  },
  "language_info": {
   "codemirror_mode": {
    "name": "ipython",
    "version": 3
   },
   "file_extension": ".py",
   "mimetype": "text/x-python",
   "name": "python",
   "nbconvert_exporter": "python",
   "pygments_lexer": "ipython3",
   "version": "3.11.12"
  }
 },
 "nbformat": 4,
 "nbformat_minor": 5
}
